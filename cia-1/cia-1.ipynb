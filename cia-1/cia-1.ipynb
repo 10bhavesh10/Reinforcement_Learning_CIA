{
 "cells": [
  {
   "cell_type": "code",
   "execution_count": 1,
   "metadata": {},
   "outputs": [],
   "source": [
    "import numpy as np\n",
    "import random"
   ]
  },
  {
   "cell_type": "code",
   "execution_count": 17,
   "metadata": {},
   "outputs": [],
   "source": [
    "# Define the number of songs (arms)\n",
    "num_songs = 10\n",
    "\n",
    "# Initialize the reward estimates and counts for each song\n",
    "Q_values = np.zeros(num_songs)\n",
    "song_counts = np.zeros(num_songs)\n",
    "\n",
    "# Set the exploration rate (epsilon)\n",
    "epsilon = 0.1\n",
    "num_iterations = 1000"
   ]
  },
  {
   "cell_type": "code",
   "execution_count": 18,
   "metadata": {},
   "outputs": [],
   "source": [
    "# Define a function to simulate user interaction with a song\n",
    "def get_reward(song):\n",
    "    # Simulate a reward based on song index (for simplicity)\n",
    "    # Higher indexed songs might be liked more in this simulation\n",
    "    return np.random.binomial(1, (song + 1) / num_songs)"
   ]
  },
  {
   "cell_type": "code",
   "execution_count": 19,
   "metadata": {},
   "outputs": [],
   "source": [
    "for i in range(num_iterations):\n",
    "    # Choose a song using the epsilon-greedy strategy\n",
    "    if random.random() < epsilon:\n",
    "        # Exploration: select a random song\n",
    "        chosen_song = np.random.randint(num_songs)\n",
    "    else:\n",
    "        # Exploitation: select the song with the highest estimated reward\n",
    "        chosen_song = np.argmax(Q_values)\n",
    "    \n",
    "    # Simulate user interaction and get a reward\n",
    "    reward = get_reward(chosen_song)\n",
    "    \n",
    "    # Update the song's count and estimated reward\n",
    "    song_counts[chosen_song] += 1\n",
    "    Q_values[chosen_song] += (1 / song_counts[chosen_song]) * (reward - Q_values[chosen_song])\n"
   ]
  },
  {
   "cell_type": "code",
   "execution_count": 20,
   "metadata": {},
   "outputs": [
    {
     "name": "stdout",
     "output_type": "stream",
     "text": [
      "Final estimated rewards for each song:\n",
      "Song 1: 0.10 (Recommended 21.0 times)\n",
      "Song 2: 0.13 (Recommended 8.0 times)\n",
      "Song 3: 0.13 (Recommended 15.0 times)\n",
      "Song 4: 0.67 (Recommended 6.0 times)\n",
      "Song 5: 0.82 (Recommended 11.0 times)\n",
      "Song 6: 0.36 (Recommended 11.0 times)\n",
      "Song 7: 0.72 (Recommended 18.0 times)\n",
      "Song 8: 0.62 (Recommended 13.0 times)\n",
      "Song 9: 0.94 (Recommended 16.0 times)\n",
      "Song 10: 1.00 (Recommended 881.0 times)\n"
     ]
    }
   ],
   "source": [
    "print(\"Final estimated rewards for each song:\")\n",
    "for i in range(num_songs):\n",
    "    print(f\"Song {i + 1}: {Q_values[i]:.2f} (Recommended {song_counts[i]} times)\")"
   ]
  }
 ],
 "metadata": {
  "kernelspec": {
   "display_name": "base",
   "language": "python",
   "name": "python3"
  },
  "language_info": {
   "codemirror_mode": {
    "name": "ipython",
    "version": 3
   },
   "file_extension": ".py",
   "mimetype": "text/x-python",
   "name": "python",
   "nbconvert_exporter": "python",
   "pygments_lexer": "ipython3",
   "version": "3.10.13"
  }
 },
 "nbformat": 4,
 "nbformat_minor": 2
}
